{
 "cells": [
  {
   "cell_type": "code",
   "execution_count": null,
   "metadata": {},
   "outputs": [],
   "source": [
    "import azureml.core\n",
    "print(azureml.core.VERSION)"
   ]
  },
  {
   "cell_type": "code",
   "execution_count": null,
   "metadata": {},
   "outputs": [],
   "source": [
    "value=\"sdfasdfasdf\"\n",
    "if isinstance(value,str):\n",
    "    value=value.encode('utf-8')\n",
    "print(value)"
   ]
  },
  {
   "cell_type": "code",
   "execution_count": null,
   "metadata": {},
   "outputs": [],
   "source": [
    "from urllib.parse import parse_qs\n",
    "my_values=parse_qs('red=5&blue=0&blue=1&green=',keep_blank_values=True)\n",
    "print(repr(my_values))"
   ]
  },
  {
   "cell_type": "code",
   "execution_count": null,
   "metadata": {},
   "outputs": [],
   "source": [
    "a=list(range(10))\n",
    "b=a\n",
    "b[4]=6\n",
    "print(a[::-1])\n",
    "print(b)\n",
    "assert a==b and a is b\n",
    "\n",
    "s =\"sdfadfasdfasdf\"\n",
    "p=s\n",
    "print(s)\n",
    "print(p)\n",
    "assert s==p and s is p\n"
   ]
  },
  {
   "cell_type": "code",
   "execution_count": null,
   "metadata": {},
   "outputs": [],
   "source": [
    "s='谢谢你'\n",
    "x= s.encode('utf-8')\n",
    "y=list(x)\n",
    "print((str(s)))\n",
    "print(len(str(s)))\n",
    "rs=list(s)\n",
    "print(''.join(rs[::-1])) ### revese the UTF-8 string\n",
    "print(x)\n",
    "print(x.decode('utf-8'))\n",
    "print(y)"
   ]
  },
  {
   "cell_type": "code",
   "execution_count": null,
   "metadata": {},
   "outputs": [],
   "source": [
    "seq=[list(range(30)), list(range(20,50)),list(range(80,100))]\n",
    "print(seq)\n",
    "seq = [[x**2 for x in row if x%3==0] for row in seq]\n",
    "print(seq)"
   ]
  },
  {
   "cell_type": "code",
   "execution_count": null,
   "metadata": {},
   "outputs": [],
   "source": [
    "seq = list(range(10))\n",
    "### using generate to avoid consuming too much memory \n",
    "it =(x*2 for x in seq)\n",
    "repeatstr = [\"a\"*x for x in seq]\n",
    "### using zip for related lists\n",
    "for number,astr in zip(seq,repeatstr):\n",
    "    print(\"%d,%s\"%(number,astr))\n",
    "###    print(num)\n",
    "### enumerate list to get index and content\n",
    "for index,num in enumerate(seq):\n",
    "    print(\"index:{0},{1}\".format(index,num))"
   ]
  },
  {
   "cell_type": "code",
   "execution_count": null,
   "metadata": {},
   "outputs": [],
   "source": [
    "### generator for indexing \n",
    "def index_words_iter(text):\n",
    "    if text:\n",
    "        yield 0\n",
    "    for index,letter in enumerate(text):\n",
    "        if letter==\" \":\n",
    "            print(\"entered\")\n",
    "            yield index+1\n",
    "\n",
    "tt=\"test the geneator's function\"\n",
    "result=list(index_words_iter(tt))\n",
    "print(result)"
   ]
  },
  {
   "cell_type": "code",
   "execution_count": null,
   "metadata": {},
   "outputs": [],
   "source": [
    "def normalize_func(get_iter):\n",
    "    total=sum(get_iter()) # new interator\n",
    "    result=[]\n",
    "    for value in get_iter():\n",
    "        pcnt = 100* value /total\n",
    "        result.append(pcnt)\n",
    "    return result\n"
   ]
  },
  {
   "cell_type": "code",
   "execution_count": null,
   "metadata": {},
   "outputs": [],
   "source": [
    "def noramlize_defensive(numbers):\n",
    "    if iter(numbers) is iter(numbers):\n",
    "        raise TypeError(\"must supply a container\")\n",
    "    total=sum(numbers)\n",
    "    result=[]\n",
    "    for value in numbers:\n",
    "        pcnt = 100* value /total\n",
    "        result.append(pcnt)\n",
    "    return result  \n",
    "\n",
    "class ReadVisits(object):\n",
    "    def __init__(self,data_path):\n",
    "        self.data_path = data_path\n",
    "    \n",
    "    def __iter__(self):\n",
    "        with open(self.data_path) as f:\n",
    "            for line in f:\n",
    "                yield int(line)\n",
    "                \n",
    "\n",
    "visits=[15,45,56]\n",
    "noramlize_defensive(visits)\n",
    "visits=ReadVisits(r\"c:\\numbers.csv\")\n",
    "noramlize_defensive(visits)\n",
    "\n",
    "# default value  for argument and also use the keyword \n",
    "def flow_rate(wd,td,period=1):\n",
    "    return wd/td * period\n",
    "\n",
    "flow_rate(1,2)\n",
    "\n",
    "from datetime import datetime\n",
    "import time\n",
    "# using None instead of default vaule. because it's evaluated once only\n",
    "def log(message, when=None):\n",
    "    when=datetime.now()\n",
    "    print(\"%s: %s\" %(when,message))\n",
    "    \n",
    "log(\"test\")\n",
    "time.sleep(0.1)\n",
    "log(\"test\")"
   ]
  },
  {
   "cell_type": "code",
   "execution_count": null,
   "metadata": {},
   "outputs": [],
   "source": [
    "from datetime import datetime\n",
    "import subprocess\n",
    "\n",
    "def run_sleep(period):\n",
    "    proc=subprocess.Popen([\"timeout\",str(period)])\n",
    "    return proc\n",
    "\n",
    "start =datetime.now()\n",
    "procs=[]\n",
    "for _ in range(10):\n",
    "    proc = run_sleep(10000)\n",
    "    procs.append(proc)\n",
    "\n",
    "for proc in procs:\n",
    "    proc.communicate()\n",
    "    \n",
    "end=datetime.now()\n",
    "print(\"Finished in %.3f seconds\" % (end-start).seconds)\n"
   ]
  },
  {
   "cell_type": "code",
   "execution_count": 3,
   "metadata": {},
   "outputs": [
    {
     "ename": "SyntaxError",
     "evalue": "invalid syntax (<ipython-input-3-e0d2c9f38a9d>, line 1)",
     "output_type": "error",
     "traceback": [
      "\u001b[1;36m  File \u001b[1;32m\"<ipython-input-3-e0d2c9f38a9d>\"\u001b[1;36m, line \u001b[1;32m1\u001b[0m\n\u001b[1;33m    import Scikit-Learn\u001b[0m\n\u001b[1;37m                 ^\u001b[0m\n\u001b[1;31mSyntaxError\u001b[0m\u001b[1;31m:\u001b[0m invalid syntax\n"
     ]
    }
   ],
   "source": [
    "import Scikit-Learn"
   ]
  },
  {
   "cell_type": "code",
   "execution_count": null,
   "metadata": {},
   "outputs": [],
   "source": []
  }
 ],
 "metadata": {
  "kernelspec": {
   "display_name": "Python 3",
   "language": "python",
   "name": "python3"
  },
  "language_info": {
   "codemirror_mode": {
    "name": "ipython",
    "version": 3
   },
   "file_extension": ".py",
   "mimetype": "text/x-python",
   "name": "python",
   "nbconvert_exporter": "python",
   "pygments_lexer": "ipython3",
   "version": "3.7.0"
  }
 },
 "nbformat": 4,
 "nbformat_minor": 2
}
