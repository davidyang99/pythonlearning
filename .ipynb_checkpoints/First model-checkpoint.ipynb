{
 "cells": [
  {
   "cell_type": "code",
   "execution_count": 1,
   "metadata": {},
   "outputs": [
    {
     "data": {
      "text/plain": [
       "5.0"
      ]
     },
     "execution_count": 1,
     "metadata": {},
     "output_type": "execute_result"
    }
   ],
   "source": [
    "import math\n",
    "x=-5\n",
    "math.fabs(x)"
   ]
  },
  {
   "cell_type": "code",
   "execution_count": 3,
   "metadata": {},
   "outputs": [
    {
     "data": {
      "text/plain": [
       "8.0"
      ]
     },
     "execution_count": 3,
     "metadata": {},
     "output_type": "execute_result"
    }
   ],
   "source": [
    "from math import pow\n",
    "pow(2,3)"
   ]
  },
  {
   "cell_type": "code",
   "execution_count": 4,
   "metadata": {},
   "outputs": [
    {
     "data": {
      "text/plain": [
       "4"
      ]
     },
     "execution_count": 4,
     "metadata": {},
     "output_type": "execute_result"
    }
   ],
   "source": [
    "# [ ] Import the math module and use an appropriate function to find the greatest common divisor of 16 and 28\n",
    "from math import gcd\n",
    "gcd(16,28)"
   ]
  },
  {
   "cell_type": "code",
   "execution_count": 13,
   "metadata": {},
   "outputs": [
    {
     "name": "stdout",
     "output_type": "stream",
     "text": [
      "please input first positive integer:\t16\n",
      "please input second positive integer:\t28\n"
     ]
    },
    {
     "data": {
      "text/plain": [
       "4"
      ]
     },
     "execution_count": 13,
     "metadata": {},
     "output_type": "execute_result"
    }
   ],
   "source": [
    "# [ ] Prompt the user to input 2 positive integers then print their greatest common divisor\n",
    "x=0\n",
    "while x<=0:\n",
    "    x=int(input(\"please input first positive integer:\\t\"))\n",
    "    if x<=0:\n",
    "        print(\"you entered a negetive number,please reenter\")\n",
    "y=0\n",
    "while y<=0:\n",
    "    y=int(input(\"please input second positive integer:\\t\"))\n",
    "    if y<=0:\n",
    "        print(\"you entered a negetive number,please reenter\")        \n",
    "from math import gcd\n",
    "gcd(x,y)    "
   ]
  },
  {
   "cell_type": "code",
   "execution_count": null,
   "metadata": {},
   "outputs": [],
   "source": [
    "def input_positivenumber():\n",
    "    n=0\n",
    "    while n<=0:\n",
    "        n=int(input(\"please input first positive integer:\\t\"))\n",
    "        if n<=0:\n",
    "            print(\"you entered a negetive number,please reenter\") \n",
    "    return n\n",
    "x= input_positivenumber()       "
   ]
  }
 ],
 "metadata": {
  "kernelspec": {
   "display_name": "Python 3",
   "language": "python",
   "name": "python3"
  },
  "language_info": {
   "codemirror_mode": {
    "name": "ipython",
    "version": 3
   },
   "file_extension": ".py",
   "mimetype": "text/x-python",
   "name": "python",
   "nbconvert_exporter": "python",
   "pygments_lexer": "ipython3",
   "version": "3.7.0"
  }
 },
 "nbformat": 4,
 "nbformat_minor": 2
}
