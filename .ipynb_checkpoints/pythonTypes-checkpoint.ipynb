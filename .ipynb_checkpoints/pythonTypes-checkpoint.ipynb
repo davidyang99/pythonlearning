{
 "cells": [
  {
   "cell_type": "code",
   "execution_count": 12,
   "metadata": {},
   "outputs": [
    {
     "data": {
      "text/plain": [
       "'Nice to meet you David Yang'"
      ]
     },
     "execution_count": 12,
     "metadata": {},
     "output_type": "execute_result"
    }
   ],
   "source": [
    "#Intergers and Floats\n",
    "answer=42\n",
    "pi=3.14159\n",
    "int(pi)\n",
    "#strings\n",
    "'Hello World'==\"Hello World\"\n",
    "'hello'.capitalize()\n",
    "'hello'.replace(\"e\",\"a\")\n",
    "'hello'.isalpha()\n",
    "\"hell0\".isdigit()\n",
    "\"Some,csv,values\".split(\",\")\n",
    "\"Nice to meet you {0}\".format(\"David\")\n",
    "name=\"David Yang\"\n",
    "f\"Nice to meet you {name}\"\n"
   ]
  },
  {
   "cell_type": "code",
   "execution_count": 26,
   "metadata": {},
   "outputs": [
    {
     "data": {
      "text/plain": [
       "True"
      ]
     },
     "execution_count": 26,
     "metadata": {},
     "output_type": "execute_result"
    }
   ],
   "source": [
    "\n",
    "content = loadfromfile(\"C:\\projects\\Dim_AssetProject.dtsx\")\n",
    "containstring(content,\"dim.assetproject\")"
   ]
  },
  {
   "cell_type": "code",
   "execution_count": 169,
   "metadata": {},
   "outputs": [],
   "source": [
    "def containstring(content,searchedstring):\n",
    "    return content.lower().find(searchedstring.lower())>=0\n",
    "\n",
    "def loadfromfile(filepath):\n",
    "    file = open(filepath, \"r\") \n",
    "    return file.read()\n",
    "\n",
    "def convertfilenametotable(filename):\n",
    "    if filename.find(\".DTSX\")>0:\n",
    "        return filename.upper().replace(\".DTSX\",\"\").replace(\"STG_\",\"STG.\").replace(\"FACT_\",\"FACT.\").replace(\"DIM_\",\"DIM.\")\n",
    "    else:\n",
    "        return \"\"\n",
    "\n",
    "def dependencylevel(origfile,linkedfile,result):\n",
    "    if len(result[linkedfile][\"linkedTables\"])>0:\n",
    "        result[origfile][\"level\"]= result[origfile][\"level\"]+1\n",
    "        for tb in result[linkedfile][\"linkedTables\"]:\n",
    "            for key in result.keys():\n",
    "                if result[key][\"tablename\"].upper()==tb.upper():\n",
    "                    dependencylevel(origfile,key,result)\n",
    "                    break\n",
    "\n",
    "import os\n",
    "def readSSISfilesInfo(ETLpath,groupname):\n",
    "    groupfiles = [f.upper() for f in os.listdir(ETLpath) if \n",
    "             os.path.isfile(os.path.join(ETLpath, f)) \n",
    "             and \".DTSX\" in f.upper() \n",
    "             and groupname.upper() in f.upper()]\n",
    "    \n",
    "    result={}\n",
    "    for filename in groupfiles:\n",
    "        tablename=convertfilenametotable(filename)\n",
    "        if  tablename !=\"\":\n",
    "            result[filename]={}\n",
    "            result[filename][\"tablename\"]=tablename\n",
    "            result[filename][\"linkedTables\"]=[]\n",
    "            result[filename][\"level\"]=0\n",
    "    return result\n",
    "\n",
    "### find out all linked tables for each SSIS package\n",
    "def getlinkedtables(SSISFiles):\n",
    "   for filename in SSISFiles.keys():\n",
    "    content=loadfromfile(os.path.join(ETLpath,filename))\n",
    "    owntablename= SSISFiles[filename][\"tablename\"]\n",
    "    SSISFiles[filename][\"linkedTables\"].clear()\n",
    "    ### print(\".\",end=\" \")\n",
    "    for file in SSISFiles.keys():\n",
    "        tablename=SSISFiles[file][\"tablename\"]\n",
    "        if containstring(content,str(tablename)+\" \") and tablename.upper()!=owntablename.upper() :\n",
    "            SSISFiles[filename][\"linkedTables\"].append(tablename) \n",
    "\n",
    "### generate layers for each SSIS package\n",
    "def generatelayers(ETLpath,groupname):\n",
    "    SSISFiles=readSSISfilesInfo(ETLpath,groupname)\n",
    "    print(SSISFiles)\n",
    "    getlinkedtables(SSISFiles)\n",
    "    for filename in SSISFiles.keys():\n",
    "        if SSISFiles[filename][\"level\"]==0:\n",
    "            dependencylevel(filename,filename,SSISFiles)\n",
    "    return result\n"
   ]
  },
  {
   "cell_type": "code",
   "execution_count": 170,
   "metadata": {},
   "outputs": [
    {
     "name": "stdout",
     "output_type": "stream",
     "text": [
      "{'DIM_ASSETPROJECT.DTSX': {'tablename': 'DIM.ASSETPROJECT', 'linkedTables': [], 'level': 0}, 'DIM_ASSETPROJECTSTATUS.DTSX': {'tablename': 'DIM.ASSETPROJECTSTATUS', 'linkedTables': [], 'level': 0}, 'DIM_ASSETSTATUS.DTSX': {'tablename': 'DIM.ASSETSTATUS', 'linkedTables': [], 'level': 0}, 'DIM_ASSETZONE.DTSX': {'tablename': 'DIM.ASSETZONE', 'linkedTables': [], 'level': 0}, 'DIM_BUDGET.DTSX': {'tablename': 'DIM.BUDGET', 'linkedTables': [], 'level': 0}, 'DIM_BUDGETFORECASTTYPE.DTSX': {'tablename': 'DIM.BUDGETFORECASTTYPE', 'linkedTables': [], 'level': 0}, 'DIM_BUDGETSTATUS.DTSX': {'tablename': 'DIM.BUDGETSTATUS', 'linkedTables': [], 'level': 0}, 'DIM_BUDGETTYPE.DTSX': {'tablename': 'DIM.BUDGETTYPE', 'linkedTables': [], 'level': 0}, 'DIM_BUILDING.DTSX': {'tablename': 'DIM.BUILDING', 'linkedTables': [], 'level': 0}, 'DIM_BUILDINGWEATHERSTATION.DTSX': {'tablename': 'DIM.BUILDINGWEATHERSTATION', 'linkedTables': [], 'level': 0}, 'DIM_CLIENT.DTSX': {'tablename': 'DIM.CLIENT', 'linkedTables': [], 'level': 0}, 'DIM_CLIENTFISCALPERIOD.DTSX': {'tablename': 'DIM.CLIENTFISCALPERIOD', 'linkedTables': [], 'level': 0}, 'DIM_CLIENTPERIOD.DTSX': {'tablename': 'DIM.CLIENTPERIOD', 'linkedTables': [], 'level': 0}, 'DIM_CLIENTSERVICETYPE.DTSX': {'tablename': 'DIM.CLIENTSERVICETYPE', 'linkedTables': [], 'level': 0}, 'DIM_CONTACT.DTSX': {'tablename': 'DIM.CONTACT', 'linkedTables': [], 'level': 0}, 'DIM_CONTACTROLE.DTSX': {'tablename': 'DIM.CONTACTROLE', 'linkedTables': [], 'level': 0}, 'DIM_CURRENCY.DTSX': {'tablename': 'DIM.CURRENCY', 'linkedTables': [], 'level': 0}, 'DIM_DATE.DTSX': {'tablename': 'DIM.DATE', 'linkedTables': [], 'level': 0}, 'DIM_DELIVEREDBY.DTSX': {'tablename': 'DIM.DELIVEREDBY', 'linkedTables': [], 'level': 0}, 'DIM_DEPARTMENT.DTSX': {'tablename': 'DIM.DEPARTMENT', 'linkedTables': [], 'level': 0}, 'DIM_ENERGYPROFILINGTYPE.DTSX': {'tablename': 'DIM.ENERGYPROFILINGTYPE', 'linkedTables': [], 'level': 0}, 'DIM_ENERGYTYPE.DTSX': {'tablename': 'DIM.ENERGYTYPE', 'linkedTables': [], 'level': 0}, 'DIM_EQUIPMENT.DTSX': {'tablename': 'DIM.EQUIPMENT', 'linkedTables': [], 'level': 0}, 'DIM_EXPDTYPE.DTSX': {'tablename': 'DIM.EXPDTYPE', 'linkedTables': [], 'level': 0}, 'DIM_FLOOR.DTSX': {'tablename': 'DIM.FLOOR', 'linkedTables': [], 'level': 0}, 'DIM_INCIDENTEQUIPMENT.DTSX': {'tablename': 'DIM.INCIDENTEQUIPMENT', 'linkedTables': [], 'level': 0}, 'DIM_INCIDENTFLAG.DTSX': {'tablename': 'DIM.INCIDENTFLAG', 'linkedTables': [], 'level': 0}, 'DIM_INCIDENTROOTCAUSE.DTSX': {'tablename': 'DIM.INCIDENTROOTCAUSE', 'linkedTables': [], 'level': 0}, 'DIM_INCIDENTTYPE.DTSX': {'tablename': 'DIM.INCIDENTTYPE', 'linkedTables': [], 'level': 0}, 'DIM_INITIATIVE.DTSX': {'tablename': 'DIM.INITIATIVE', 'linkedTables': [], 'level': 0}, 'DIM_INVOICELINETYPE.DTSX': {'tablename': 'DIM.INVOICELINETYPE', 'linkedTables': [], 'level': 0}, 'DIM_LEASE.DTSX': {'tablename': 'DIM.LEASE', 'linkedTables': [], 'level': 0}, 'DIM_LEGALENTITY.DTSX': {'tablename': 'DIM.LEGALENTITY', 'linkedTables': [], 'level': 0}, 'DIM_LOCATION.DTSX': {'tablename': 'DIM.LOCATION', 'linkedTables': [], 'level': 0}, 'DIM_MATERIALTYPE.DTSX': {'tablename': 'DIM.MATERIALTYPE', 'linkedTables': [], 'level': 0}, 'DIM_METER.DTSX': {'tablename': 'DIM.METER', 'linkedTables': [], 'level': 0}, 'DIM_MILESTONE.DTSX': {'tablename': 'DIM.MILESTONE', 'linkedTables': [], 'level': 0}, 'DIM_MILESTONEPHASE.DTSX': {'tablename': 'DIM.MILESTONEPHASE', 'linkedTables': [], 'level': 0}, 'DIM_PLANNINGSTATUS.DTSX': {'tablename': 'DIM.PLANNINGSTATUS', 'linkedTables': [], 'level': 0}, 'DIM_PO.DTSX': {'tablename': 'DIM.PO', 'linkedTables': [], 'level': 0}, 'DIM_POSTATUS.DTSX': {'tablename': 'DIM.POSTATUS', 'linkedTables': [], 'level': 0}, 'DIM_POTYPE.DTSX': {'tablename': 'DIM.POTYPE', 'linkedTables': [], 'level': 0}, 'DIM_PROJECT.DTSX': {'tablename': 'DIM.PROJECT', 'linkedTables': [], 'level': 0}, 'DIM_PROJECTBENCHMARKCATEGORY.DTSX': {'tablename': 'DIM.PROJECTBENCHMARKCATEGORY', 'linkedTables': [], 'level': 0}, 'DIM_PROJECTCATEGORY.DTSX': {'tablename': 'DIM.PROJECTCATEGORY', 'linkedTables': [], 'level': 0}, 'DIM_PROJECTCLASS.DTSX': {'tablename': 'DIM.PROJECTCLASS', 'linkedTables': [], 'level': 0}, 'DIM_PROJECTCOSTCATEGORY.DTSX': {'tablename': 'DIM.PROJECTCOSTCATEGORY', 'linkedTables': [], 'level': 0}, 'DIM_PROJECTFUNDINGAGREEMENT.DTSX': {'tablename': 'DIM.PROJECTFUNDINGAGREEMENT', 'linkedTables': [], 'level': 0}, 'DIM_PROJECTOWNINGORG.DTSX': {'tablename': 'DIM.PROJECTOWNINGORG', 'linkedTables': [], 'level': 0}, 'DIM_PROJECTPLAN.DTSX': {'tablename': 'DIM.PROJECTPLAN', 'linkedTables': [], 'level': 0}, 'DIM_PROJECTPRIORITY.DTSX': {'tablename': 'DIM.PROJECTPRIORITY', 'linkedTables': [], 'level': 0}, 'DIM_PROJECTPROGRAM.DTSX': {'tablename': 'DIM.PROJECTPROGRAM', 'linkedTables': [], 'level': 0}, 'DIM_PROJECTSUBCATEGORY.DTSX': {'tablename': 'DIM.PROJECTSUBCATEGORY', 'linkedTables': [], 'level': 0}, 'DIM_PROJECTSUBPROGRAM.DTSX': {'tablename': 'DIM.PROJECTSUBPROGRAM', 'linkedTables': [], 'level': 0}, 'DIM_PROJECTTASK.DTSX': {'tablename': 'DIM.PROJECTTASK', 'linkedTables': [], 'level': 0}, 'DIM_REPORTINGYEAR.DTSX': {'tablename': 'DIM.REPORTINGYEAR', 'linkedTables': [], 'level': 0}, 'DIM_REQUESTTYPE.DTSX': {'tablename': 'DIM.REQUESTTYPE', 'linkedTables': [], 'level': 0}, 'DIM_RISK.DTSX': {'tablename': 'DIM.RISK', 'linkedTables': [], 'level': 0}, 'DIM_ROOM.DTSX': {'tablename': 'DIM.ROOM', 'linkedTables': [], 'level': 0}, 'DIM_SCREEN.DTSX': {'tablename': 'DIM.SCREEN', 'linkedTables': [], 'level': 0}, 'DIM_SERVICE.DTSX': {'tablename': 'DIM.SERVICE', 'linkedTables': [], 'level': 0}, 'DIM_SERVICETYPE.DTSX': {'tablename': 'DIM.SERVICETYPE', 'linkedTables': [], 'level': 0}, 'DIM_SERVICETYPECATEGORY.DTSX': {'tablename': 'DIM.SERVICETYPECATEGORY', 'linkedTables': [], 'level': 0}, 'DIM_TAXCODE.DTSX': {'tablename': 'DIM.TAXCODE', 'linkedTables': [], 'level': 0}, 'DIM_UNIFORMAT.DTSX': {'tablename': 'DIM.UNIFORMAT', 'linkedTables': [], 'level': 0}, 'DIM_UOM.DTSX': {'tablename': 'DIM.UOM', 'linkedTables': [], 'level': 0}, 'DIM_UTILITYSERVICE.DTSX': {'tablename': 'DIM.UTILITYSERVICE', 'linkedTables': [], 'level': 0}, 'DIM_UTILITYSERVICE_ITEM.DTSX': {'tablename': 'DIM.UTILITYSERVICE_ITEM', 'linkedTables': [], 'level': 0}, 'DIM_UTILITYUOM.DTSX': {'tablename': 'DIM.UTILITYUOM', 'linkedTables': [], 'level': 0}, 'DIM_VALUETYPE.DTSX': {'tablename': 'DIM.VALUETYPE', 'linkedTables': [], 'level': 0}, 'DIM_VENDOR.DTSX': {'tablename': 'DIM.VENDOR', 'linkedTables': [], 'level': 0}, 'DIM_VENDORINVOICEEXCEPTION.DTSX': {'tablename': 'DIM.VENDORINVOICEEXCEPTION', 'linkedTables': [], 'level': 0}, 'DIM_WEATHERSTATION.DTSX': {'tablename': 'DIM.WEATHERSTATION', 'linkedTables': [], 'level': 0}, 'DIM_WORKORDERPRIORITY.DTSX': {'tablename': 'DIM.WORKORDERPRIORITY', 'linkedTables': [], 'level': 0}, 'DIM_WORKORDERSOURCE.DTSX': {'tablename': 'DIM.WORKORDERSOURCE', 'linkedTables': [], 'level': 0}, 'DIM_WORKORDERSTATUS.DTSX': {'tablename': 'DIM.WORKORDERSTATUS', 'linkedTables': [], 'level': 0}, 'DIM_WORKORDERTYPE.DTSX': {'tablename': 'DIM.WORKORDERTYPE', 'linkedTables': [], 'level': 0}}\n"
     ]
    }
   ],
   "source": [
    "import csv\n",
    "ETLpath=\"C:\\projects\"\n",
    "groupname=\"DIM\"\n",
    "result = generatelayers(ETLpath,groupname)"
   ]
  },
  {
   "cell_type": "code",
   "execution_count": 172,
   "metadata": {},
   "outputs": [
    {
     "name": "stdout",
     "output_type": "stream",
     "text": [
      "{'FACT_ADJUSTEDENERGYBUDGETS.DTSX': {'tablename': 'FACT.ADJUSTEDENERGYBUDGETS', 'linkedTables': ['FACT.ENERGYREGRESSIONS'], 'level': 1}, 'FACT_ADJUSTEDENERGYCONSUMPTIONS.DTSX': {'tablename': 'FACT.ADJUSTEDENERGYCONSUMPTIONS', 'linkedTables': ['FACT.ENERGYREGRESSIONS', 'FACT.WEATHERSTATIONDATA'], 'level': 1}, 'FACT_ADJUSTEDYEARENERGYCONSUMPTIONS.DTSX': {'tablename': 'FACT.ADJUSTEDYEARENERGYCONSUMPTIONS', 'linkedTables': ['FACT.ENERGYREGRESSIONS', 'FACT.WEATHERSTATIONDATA'], 'level': 1}, 'FACT_ASSETCOSTS.DTSX': {'tablename': 'FACT.ASSETCOSTS', 'linkedTables': [], 'level': 0}, 'FACT_ASSETPROJECTS.DTSX': {'tablename': 'FACT.ASSETPROJECTS', 'linkedTables': [], 'level': 0}, 'FACT_BASEYEARADJUSTMENTS.DTSX': {'tablename': 'FACT.BASEYEARADJUSTMENTS', 'linkedTables': [], 'level': 0}, 'FACT_BJCCCOSTS.DTSX': {'tablename': 'FACT.BJCCCOSTS', 'linkedTables': ['FACT.WORKORDERS'], 'level': 3}, 'FACT_BUDGETSFORECASTS.DTSX': {'tablename': 'FACT.BUDGETSFORECASTS', 'linkedTables': ['FACT.OMBUDGETS'], 'level': 1}, 'FACT_BUILDINGLOCATIONS.DTSX': {'tablename': 'FACT.BUILDINGLOCATIONS', 'linkedTables': [], 'level': 0}, 'FACT_CAPITALPROJECTBUDGETS.DTSX': {'tablename': 'FACT.CAPITALPROJECTBUDGETS', 'linkedTables': [], 'level': 0}, 'FACT_CAPITALPROJECTCONTACTS.DTSX': {'tablename': 'FACT.CAPITALPROJECTCONTACTS', 'linkedTables': [], 'level': 0}, 'FACT_CAPITALPROJECTEACS.DTSX': {'tablename': 'FACT.CAPITALPROJECTEACS', 'linkedTables': [], 'level': 0}, 'FACT_CAPITALPROJECTFUNDINGAGREEMENTS.DTSX': {'tablename': 'FACT.CAPITALPROJECTFUNDINGAGREEMENTS', 'linkedTables': [], 'level': 0}, 'FACT_CAPITALPROJECTMILESTONES.DTSX': {'tablename': 'FACT.CAPITALPROJECTMILESTONES', 'linkedTables': [], 'level': 0}, 'FACT_CAPITALPROJECTPLANNEDFUNDINGS.DTSX': {'tablename': 'FACT.CAPITALPROJECTPLANNEDFUNDINGS', 'linkedTables': [], 'level': 0}, 'FACT_CAPITALPROJECTS.DTSX': {'tablename': 'FACT.CAPITALPROJECTS', 'linkedTables': [], 'level': 0}, 'FACT_CAPITALPROJECTSCSAT.DTSX': {'tablename': 'FACT.CAPITALPROJECTSCSAT', 'linkedTables': [], 'level': 0}, 'FACT_CAPITALPROJECTSKPIS.DTSX': {'tablename': 'FACT.CAPITALPROJECTSKPIS', 'linkedTables': [], 'level': 0}, 'FACT_CAPITALPROJECTS_VENDORCSAT.DTSX': {'tablename': 'FACT.CAPITALPROJECTS_VENDORCSAT', 'linkedTables': [], 'level': 0}, 'FACT_CAPITALPROJECTTASKCOSTS.DTSX': {'tablename': 'FACT.CAPITALPROJECTTASKCOSTS', 'linkedTables': [], 'level': 0}, 'FACT_CAPITALPROJECTTASKS.DTSX': {'tablename': 'FACT.CAPITALPROJECTTASKS', 'linkedTables': [], 'level': 0}, 'FACT_CAPITALTASKCOMMITMENTS.DTSX': {'tablename': 'FACT.CAPITALTASKCOMMITMENTS', 'linkedTables': [], 'level': 0}, 'FACT_CLIENTMETRICTARGETS.DTSX': {'tablename': 'FACT.CLIENTMETRICTARGETS', 'linkedTables': [], 'level': 0}, 'FACT_DAILYENERGYACCRUALS.DTSX': {'tablename': 'FACT.DAILYENERGYACCRUALS', 'linkedTables': [], 'level': 0}, 'FACT_DAILYENERGYCOSTS.DTSX': {'tablename': 'FACT.DAILYENERGYCOSTS', 'linkedTables': ['FACT.BJCCCOSTS'], 'level': 4}, 'FACT_DAILYENERGYFORECAST.DTSX': {'tablename': 'FACT.DAILYENERGYFORECAST', 'linkedTables': ['FACT.ENERGYFORECASTRATES', 'FACT.ENERGYINVOICELINES'], 'level': 3}, 'FACT_DAILYENERGYINVOICES.DTSX': {'tablename': 'FACT.DAILYENERGYINVOICES', 'linkedTables': ['FACT.ENERGYINVOICELINES'], 'level': 1}, 'FACT_DEPARTMENTLOCATIONS.DTSX': {'tablename': 'FACT.DEPARTMENTLOCATIONS', 'linkedTables': [], 'level': 0}, 'FACT_EMISSIONS.DTSX': {'tablename': 'FACT.EMISSIONS', 'linkedTables': [], 'level': 0}, 'FACT_EMPLOYEECOUNTS.DTSX': {'tablename': 'FACT.EMPLOYEECOUNTS', 'linkedTables': [], 'level': 0}, 'FACT_ENERGYACCRUALS.DTSX': {'tablename': 'FACT.ENERGYACCRUALS', 'linkedTables': [], 'level': 0}, 'FACT_ENERGYFORECASTRATES.DTSX': {'tablename': 'FACT.ENERGYFORECASTRATES', 'linkedTables': ['FACT.DAILYENERGYINVOICES'], 'level': 2}, 'FACT_ENERGYINVOICEHEADER.DTSX': {'tablename': 'FACT.ENERGYINVOICEHEADER', 'linkedTables': [], 'level': 0}, 'FACT_ENERGYINVOICELINES.DTSX': {'tablename': 'FACT.ENERGYINVOICELINES', 'linkedTables': [], 'level': 0}, 'FACT_ENERGYREGRESSIONS.DTSX': {'tablename': 'FACT.ENERGYREGRESSIONS', 'linkedTables': [], 'level': 0}, 'FACT_ENERGYSERVICETYPE.DTSX': {'tablename': 'FACT.ENERGYSERVICETYPE', 'linkedTables': [], 'level': 0}, 'FACT_FMSKPIS.DTSX': {'tablename': 'FACT.FMSKPIS', 'linkedTables': [], 'level': 0}, 'FACT_INCIDENTS.DTSX': {'tablename': 'FACT.INCIDENTS', 'linkedTables': [], 'level': 0}, 'FACT_INITIATIVEMONTHLYVALUES.DTSX': {'tablename': 'FACT.INITIATIVEMONTHLYVALUES', 'linkedTables': [], 'level': 0}, 'FACT_INITIATIVEVALUES.DTSX': {'tablename': 'FACT.INITIATIVEVALUES', 'linkedTables': [], 'level': 0}, 'FACT_INVOICECOSTS.DTSX': {'tablename': 'FACT.INVOICECOSTS', 'linkedTables': ['FACT.BJCCCOSTS'], 'level': 4}, 'FACT_LEASEBUILDINGS.DTSX': {'tablename': 'FACT.LEASEBUILDINGS', 'linkedTables': [], 'level': 0}, 'FACT_LEASEOPTIONS.DTSX': {'tablename': 'FACT.LEASEOPTIONS', 'linkedTables': [], 'level': 0}, 'FACT_OCCUPANCYCOSTS.DTSX': {'tablename': 'FACT.OCCUPANCYCOSTS', 'linkedTables': [], 'level': 0}, 'FACT_OMBUDGETS.DTSX': {'tablename': 'FACT.OMBUDGETS', 'linkedTables': [], 'level': 0}, 'FACT_OMCLIENTCOSTS.DTSX': {'tablename': 'FACT.OMCLIENTCOSTS', 'linkedTables': ['FACT.OMCOSTS', 'FACT.OMREVENUES'], 'level': 1}, 'FACT_OMCOSTS.DTSX': {'tablename': 'FACT.OMCOSTS', 'linkedTables': [], 'level': 0}, 'FACT_OMREVENUES.DTSX': {'tablename': 'FACT.OMREVENUES', 'linkedTables': [], 'level': 0}, 'FACT_PROJECTBUILDINGS.DTSX': {'tablename': 'FACT.PROJECTBUILDINGS', 'linkedTables': [], 'level': 0}, 'FACT_RECOMMENDACTIONS.DTSX': {'tablename': 'FACT.RECOMMENDACTIONS', 'linkedTables': [], 'level': 0}, 'FACT_UNIQUEVENDORINVOICES.DTSX': {'tablename': 'FACT.UNIQUEVENDORINVOICES', 'linkedTables': [], 'level': 0}, 'FACT_VENDORCLIENTQUALIFICATIONS.DTSX': {'tablename': 'FACT.VENDORCLIENTQUALIFICATIONS', 'linkedTables': [], 'level': 0}, 'FACT_VENDORINVOICEEXCEPTIONS.DTSX': {'tablename': 'FACT.VENDORINVOICEEXCEPTIONS', 'linkedTables': [], 'level': 0}, 'FACT_VENDORINVOICES.DTSX': {'tablename': 'FACT.VENDORINVOICES', 'linkedTables': [], 'level': 0}, 'FACT_VENDORKPIGOAL.DTSX': {'tablename': 'FACT.VENDORKPIGOAL', 'linkedTables': [], 'level': 0}, 'FACT_VENDORPROVINCEQUALIFICATIONS.DTSX': {'tablename': 'FACT.VENDORPROVINCEQUALIFICATIONS', 'linkedTables': [], 'level': 0}, 'FACT_WEATHERSTATIONDATA.DTSX': {'tablename': 'FACT.WEATHERSTATIONDATA', 'linkedTables': [], 'level': 0}, 'FACT_WORKORDERS.DTSX': {'tablename': 'FACT.WORKORDERS', 'linkedTables': ['FACT.OMCLIENTCOSTS', 'FACT.OMCOSTS', 'FACT.OMREVENUES'], 'level': 2}}\n"
     ]
    }
   ],
   "source": [
    "print(result)\n",
    "\n",
    "with open(r'C:\\temp\\DIM.csv','w') as f:\n",
    "    for k,v in result.items():\n",
    "        f.write(\"{0}\\t{1}\\t{2}\\t{3}\\n\".format(k,v[\"tablename\"],\n",
    "                  \"\" if len(v[\"linkedTables\"])==0 else str(v[\"linkedTables\"]),int(v[\"level\"])))\n",
    "   "
   ]
  },
  {
   "cell_type": "code",
   "execution_count": 131,
   "metadata": {},
   "outputs": [
    {
     "name": "stdout",
     "output_type": "stream",
     "text": [
      "Dependency\n",
      "FACT_ADJUSTEDENERGYBUDGETS.DTSX depends on ['FACT.ENERGYREGRESSIONS'] and level=1\n",
      "FACT_ADJUSTEDENERGYCONSUMPTIONS.DTSX depends on ['FACT.ENERGYREGRESSIONS', 'FACT.WEATHERSTATIONDATA'] and level=1\n",
      "FACT_ADJUSTEDYEARENERGYCONSUMPTIONS.DTSX depends on ['FACT.ENERGYREGRESSIONS', 'FACT.WEATHERSTATIONDATA'] and level=1\n",
      "FACT_BJCCCOSTS.DTSX depends on ['FACT.WORKORDERS'] and level=3\n",
      "FACT_BUDGETSFORECASTS.DTSX depends on ['FACT.OMBUDGETS'] and level=1\n",
      "FACT_DAILYENERGYCOSTS.DTSX depends on ['FACT.BJCCCOSTS'] and level=4\n",
      "FACT_DAILYENERGYFORECAST.DTSX depends on ['FACT.ENERGYFORECASTRATES', 'FACT.ENERGYINVOICELINES'] and level=3\n",
      "FACT_DAILYENERGYINVOICES.DTSX depends on ['FACT.ENERGYINVOICELINES'] and level=1\n",
      "FACT_ENERGYFORECASTRATES.DTSX depends on ['FACT.DAILYENERGYINVOICES'] and level=2\n",
      "FACT_INVOICECOSTS.DTSX depends on ['FACT.BJCCCOSTS'] and level=4\n",
      "FACT_OMCLIENTCOSTS.DTSX depends on ['FACT.OMCOSTS', 'FACT.OMREVENUES'] and level=1\n",
      "FACT_WORKORDERS.DTSX depends on ['FACT.OMCLIENTCOSTS', 'FACT.OMCOSTS', 'FACT.OMREVENUES'] and level=2\n"
     ]
    }
   ],
   "source": [
    "### generate layers for each SSIS package\n",
    "print(\"Dependency\")\n",
    "for filename in result.keys():\n",
    "    if len(result[filename][\"linkedTables\"])>0:\n",
    "        print(\"{0} depends on {1} and level={2}\".format\n",
    "              (filename,result[filename][\"linkedTables\"],result[filename][\"level\"]) )\n",
    "        \n",
    "    \n"
   ]
  },
  {
   "cell_type": "code",
   "execution_count": null,
   "metadata": {},
   "outputs": [],
   "source": [
    "\"\"\"\n",
    "###Unit Test\n",
    "testdata ={\"A.dtsx\":{\"tablename\":\"A\",linkedTables\":[\"B\",\"C\"],\"level\":0},\n",
    "           \"B.dtsx\":{\"tablename\":\"B\",\"tablename\":\"A\",\"linkedTables\":[\"D\"],\"level\":0},\n",
    "           \"C.dtsx\":{\"tablename\":\"C\",\"linkedTables\":[\"F\"],\"level\":0},\n",
    "           \"D.dtsx\":{\"tablename\":\"D\",\"linkedTables\":[\"E\"],\"level\":0},\n",
    "           \"E.dtsx\":{\"tablename\":\"E\",\"linkedTables\":[\"F\"],\"level\":0},\n",
    "           \"F.dtsx\":{\"tablename\":\"F\",\"linkedTables\":[],\"level\":0},\n",
    "          }\n",
    "for tablename in testdata.keys():\n",
    "    if testdata[tablename][\"level\"]==0:\n",
    "        dependencylevel(tablename,tablename,testdata)\n",
    "        \n",
    "print(testdata)\n",
    " \"\"\"    "
   ]
  }
 ],
 "metadata": {
  "kernelspec": {
   "display_name": "Python 3",
   "language": "python",
   "name": "python3"
  },
  "language_info": {
   "codemirror_mode": {
    "name": "ipython",
    "version": 3
   },
   "file_extension": ".py",
   "mimetype": "text/x-python",
   "name": "python",
   "nbconvert_exporter": "python",
   "pygments_lexer": "ipython3",
   "version": "3.7.0"
  }
 },
 "nbformat": 4,
 "nbformat_minor": 2
}
