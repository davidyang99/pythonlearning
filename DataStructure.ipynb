{
 "cells": [
  {
   "cell_type": "code",
   "execution_count": 3,
   "metadata": {},
   "outputs": [],
   "source": [
    "l=[1,2,3,4]\n",
    "d={\"a\":1,\"b\":2,\"c\":3}\n",
    "s=set([])\n",
    "t=(1,2,3)"
   ]
  },
  {
   "cell_type": "code",
   "execution_count": 7,
   "metadata": {},
   "outputs": [
    {
     "name": "stdout",
     "output_type": "stream",
     "text": [
      "[1, 2, 3, 4, 5, 5, 5, 5]\n",
      "{'a': 1, 'b': 2, 'c': 3, 'd': 5}\n",
      "{4}\n"
     ]
    }
   ],
   "source": [
    "#### Add element\n",
    "l.append(5)\n",
    "print(l)\n",
    "d[\"d\"]=5\n",
    "print(d)\n",
    "s.add(4)\n",
    "print(s)\n"
   ]
  },
  {
   "cell_type": "code",
   "execution_count": 9,
   "metadata": {},
   "outputs": [
    {
     "name": "stdout",
     "output_type": "stream",
     "text": [
      "[1, 2, 3, 4, 50, 5, 5, 5]\n",
      "{'a': 1, 'b': 2, 'c': 3, 'd': 50}\n"
     ]
    }
   ],
   "source": [
    "### update element\n",
    "l[4]=50\n",
    "print(l)\n",
    "d[\"d\"]=50\n",
    "print(d)\n"
   ]
  },
  {
   "cell_type": "code",
   "execution_count": 28,
   "metadata": {},
   "outputs": [
    {
     "name": "stdout",
     "output_type": "stream",
     "text": [
      "[1, 2, 3, 4, 50, [4, 5, 6, 7, 89], 4, 5, 6, 7, 89]\n",
      "{'b': 2, 'c': 3, 'd': 50}\n",
      "{0, 1, 2, 3, 4, 5, 6, 7, 8, 9, 10, 11, 12, 13, 14, 15, 16, 17, 18, 19, 20, 21, 22, 23, 24, 25, 26, 27, 28, 29, 30, 31, 32, 33, 34, 35, 36, 37, 38, 39, 40, 41, 42, 43, 44, 45, 46, 47, 48, 49, 50, 51, 52, 53, 54, 55, 56, 57, 58, 59, 60, 61, 62, 63, 64, 65, 66, 67, 68, 69, 70, 71, 72, 73, 74, 75, 76, 77, 78, 79, 80, 81, 82, 83, 84, 85, 86, 87, 88, 89, 90, 91, 92, 93, 94, 95, 96, 97, 98, 99}\n",
      "[1, 2, 3, 4, 50, [4, 5, 6, 7, 89], 4, 5, 6, 7, 89, 4, 5, 6, 7, 89, 1, 11, 21, 31, 41, 51, 61, 71, 81, 91]\n"
     ]
    }
   ],
   "source": [
    "### remove element\n",
    "###l.remove(5)\n",
    "print(l)\n",
    "###del(d[\"a\"])\n",
    "print(d)\n",
    "####s.remove(4)\n",
    "### add elements in batch\n",
    "s.update(range(100))\n",
    "print (s)\n",
    "l = l + [4,5,6,7,89] + list(range(1,101,10))\n",
    "print(l)"
   ]
  },
  {
   "cell_type": "code",
   "execution_count": 36,
   "metadata": {},
   "outputs": [
    {
     "data": {
      "text/plain": [
       "2"
      ]
     },
     "execution_count": 36,
     "metadata": {},
     "output_type": "execute_result"
    }
   ],
   "source": [
    "filter(lambda x: x%2==0, range(0,101) )\n",
    "###print(evenl)\n",
    "l.count(7)"
   ]
  }
 ],
 "metadata": {
  "kernelspec": {
   "display_name": "Python 3",
   "language": "python",
   "name": "python3"
  },
  "language_info": {
   "codemirror_mode": {
    "name": "ipython",
    "version": 3
   },
   "file_extension": ".py",
   "mimetype": "text/x-python",
   "name": "python",
   "nbconvert_exporter": "python",
   "pygments_lexer": "ipython3",
   "version": "3.7.0"
  }
 },
 "nbformat": 4,
 "nbformat_minor": 2
}
