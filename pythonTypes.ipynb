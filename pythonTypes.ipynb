{
 "cells": [
  {
   "cell_type": "code",
   "execution_count": 1,
   "metadata": {},
   "outputs": [
    {
     "data": {
      "text/plain": [
       "'Nice to meet you David Yang'"
      ]
     },
     "execution_count": 1,
     "metadata": {},
     "output_type": "execute_result"
    }
   ],
   "source": [
    "#Intergers and Floats\n",
    "answer=42\n",
    "pi=3.14159\n",
    "int(pi)\n",
    "#strings\n",
    "'Hello World'==\"Hello World\"\n",
    "'hello'.capitalize()\n",
    "'hello'.replace(\"e\",\"a\")\n",
    "'hello'.isalpha()\n",
    "\"hell0\".isdigit()\n",
    "\"Some,csv,values\".split(\",\")\n",
    "\"Nice to meet you {0}\".format(\"David\")\n",
    "name=\"David Yang\"\n",
    "f\"Nice to meet you {name}\"\n"
   ]
  },
  {
   "cell_type": "code",
   "execution_count": 149,
   "metadata": {
    "scrolled": true
   },
   "outputs": [
    {
     "name": "stdout",
     "output_type": "stream",
     "text": [
      "\\[*dim\\]*\\.\\[*project\\]*\n",
      "from dim.project\n",
      "True\n",
      "matched\n"
     ]
    }
   ],
   "source": [
    "import re\n",
    "\n",
    "s =\"dim.project\"\n",
    "s=\"\\[*{0}\\]*\\.\\[*{1}\\]*\".format(s.split(\".\")[0],s.split(\".\")[1])\n",
    "print(s)\n",
    "d = \"\\[*dim\\]*\\.\\[*project\\]*\"\n",
    "line=\"FROM Dim.Project\".lower()\n",
    "print(line)\n",
    "\n",
    "matchObj = re.search( r'{0}[)|<|\\s]|{0}$'.format(d.lower()), line,re.M)\n",
    "print(matchObj!=None)\n",
    "if matchObj:\n",
    "    print(\"matched\")\n",
    "else:\n",
    "    print(\"not matched\")\n",
    "\n"
   ]
  },
  {
   "cell_type": "code",
   "execution_count": 150,
   "metadata": {},
   "outputs": [],
   "source": [
    "import re\n",
    "import os\n",
    "\n",
    "def containstring(content,searchedstring):\n",
    "    searchedstring=\"\\[*{0}\\]*\\.\\[*{1}\\]*\".format(searchedstring.split(\".\")[0],searchedstring.split(\".\")[1])\n",
    "    matchObj = re.search( r'{0}[)|<|\\s]|{0}$'.format(searchedstring.lower()), content.lower(), re.M)\n",
    "    return matchObj!=None\n",
    "\n",
    "def loadfromfile(filepath):\n",
    "    file = open(filepath, \"r\") \n",
    "    return file.read()\n",
    "\n",
    "def convertfilenametotable(filename):\n",
    "    if filename.find(\".DTSX\")>0:\n",
    "        return filename.upper().replace(\".DTSX\",\"\").replace(\"STG_\",\"STG.\").replace(\"FACT_\",\"FACT.\").replace(\"DIM_\",\"DIM.\")\n",
    "    else:\n",
    "        return \"\"\n",
    "\n",
    "def dependencylevel(origfile,linkedfile,result):\n",
    "    if len(result[linkedfile][\"linkedTables\"])>0:\n",
    "        result[origfile][\"level\"]= result[origfile][\"level\"]+1\n",
    "        for tb in result[linkedfile][\"linkedTables\"]:\n",
    "            for key in result.keys():\n",
    "                if result[key][\"tablename\"].upper()==tb.upper():\n",
    "                    dependencylevel(origfile,key,result)\n",
    "                    break\n",
    "\n",
    "def readSSISfilesInfo(ETLpath,groupname):\n",
    "    groupfiles = [f.upper() for f in os.listdir(ETLpath) if \n",
    "             os.path.isfile(os.path.join(ETLpath, f)) \n",
    "             and \".DTSX\" in f.upper() \n",
    "             and groupname.upper() in f.upper()]\n",
    "    \n",
    "    result={}\n",
    "    for filename in groupfiles:\n",
    "        tablename=convertfilenametotable(filename)\n",
    "        if  tablename !=\"\":\n",
    "            result[filename]={}\n",
    "            result[filename][\"tablename\"]=tablename\n",
    "            result[filename][\"linkedTables\"]=[]\n",
    "            result[filename][\"level\"]=0\n",
    "    return result\n",
    "\n",
    "### find out all linked tables for each SSIS package\n",
    "def getlinkedtables(SSISFiles):\n",
    "   for filename in SSISFiles.keys():\n",
    "    content=loadfromfile(os.path.join(ETLpath,filename))\n",
    "    owntablename= SSISFiles[filename][\"tablename\"]\n",
    "    SSISFiles[filename][\"linkedTables\"].clear()\n",
    "    ### print(\".\",end=\" \")\n",
    "    for file in SSISFiles.keys():\n",
    "        tablename=SSISFiles[file][\"tablename\"]\n",
    "        if  tablename.upper()!=owntablename.upper() and containstring(content,tablename) :\n",
    "            SSISFiles[filename][\"linkedTables\"].append(tablename) \n",
    "\n",
    "### generate layers for each SSIS package\n",
    "def generatelayers(ETLpath,groupname):\n",
    "    SSISFiles=readSSISfilesInfo(ETLpath,groupname)\n",
    "    getlinkedtables(SSISFiles)\n",
    "    for filename in SSISFiles.keys():\n",
    "        if SSISFiles[filename][\"level\"]==0:\n",
    "            dependencylevel(filename,filename,SSISFiles)\n",
    "    return SSISFiles\n"
   ]
  },
  {
   "cell_type": "code",
   "execution_count": 153,
   "metadata": {},
   "outputs": [],
   "source": [
    "import csv\n",
    "ETLpath=\"C:\\projects\"\n",
    "groupname=\"FACT\"\n",
    "result = generatelayers(ETLpath,groupname)"
   ]
  },
  {
   "cell_type": "code",
   "execution_count": 155,
   "metadata": {},
   "outputs": [],
   "source": [
    "with open(r'C:\\temp\\Fact.csv','w') as f:\n",
    "    for k,v in result.items():\n",
    "        f.write(\"{0}\\t{1}\\t{2}\\t{3}\\n\".format(k,v[\"tablename\"],\n",
    "                  \"\" if len(v[\"linkedTables\"])==0 else str(v[\"linkedTables\"]),int(v[\"level\"])))\n",
    "   "
   ]
  },
  {
   "cell_type": "code",
   "execution_count": 154,
   "metadata": {},
   "outputs": [
    {
     "name": "stdout",
     "output_type": "stream",
     "text": [
      "Dependency\n",
      "FACT_ADJUSTEDENERGYBUDGETS.DTSX depends on ['FACT.ENERGYREGRESSIONS', 'FACT.WEATHERSTATIONDATA'] and level=1\n",
      "FACT_ADJUSTEDENERGYCONSUMPTIONS.DTSX depends on ['FACT.DAILYENERGYINVOICES', 'FACT.ENERGYREGRESSIONS', 'FACT.WEATHERSTATIONDATA'] and level=2\n",
      "FACT_ADJUSTEDYEARENERGYCONSUMPTIONS.DTSX depends on ['FACT.ENERGYREGRESSIONS', 'FACT.WEATHERSTATIONDATA'] and level=1\n",
      "FACT_ASSETPROJECTS.DTSX depends on ['FACT.ASSETCOSTS'] and level=1\n",
      "FACT_BJCCCOSTS.DTSX depends on ['FACT.WORKORDERS'] and level=3\n",
      "FACT_BUDGETSFORECASTS.DTSX depends on ['FACT.OMBUDGETS'] and level=1\n",
      "FACT_CAPITALPROJECTS_VENDORCSAT.DTSX depends on ['FACT.CAPITALPROJECTSCSAT'] and level=1\n",
      "FACT_CAPITALPROJECTTASKS.DTSX depends on ['FACT.CAPITALPROJECTS'] and level=1\n",
      "FACT_DAILYENERGYCOSTS.DTSX depends on ['FACT.BJCCCOSTS'] and level=4\n",
      "FACT_DAILYENERGYFORECAST.DTSX depends on ['FACT.ENERGYFORECASTRATES', 'FACT.ENERGYINVOICELINES'] and level=3\n",
      "FACT_DAILYENERGYINVOICES.DTSX depends on ['FACT.ENERGYINVOICELINES'] and level=1\n",
      "FACT_ENERGYFORECASTRATES.DTSX depends on ['FACT.DAILYENERGYINVOICES'] and level=2\n",
      "FACT_INVOICECOSTS.DTSX depends on ['FACT.BJCCCOSTS', 'FACT.UNIQUEVENDORINVOICES', 'FACT.WORKORDERS'] and level=6\n",
      "FACT_OMCLIENTCOSTS.DTSX depends on ['FACT.OMCOSTS', 'FACT.OMREVENUES'] and level=1\n",
      "FACT_WORKORDERS.DTSX depends on ['FACT.OMCLIENTCOSTS', 'FACT.OMCOSTS', 'FACT.OMREVENUES'] and level=2\n"
     ]
    }
   ],
   "source": [
    "### generate layers for each SSIS package\n",
    "print(\"Dependency\")\n",
    "for filename in result.keys():\n",
    "    if len(result[filename][\"linkedTables\"])>0:\n",
    "        print(\"{0} depends on {1} and level={2}\".format\n",
    "              (filename,result[filename][\"linkedTables\"],result[filename][\"level\"]) )\n",
    "        \n",
    "    \n"
   ]
  },
  {
   "cell_type": "code",
   "execution_count": null,
   "metadata": {},
   "outputs": [],
   "source": [
    "\"\"\"\n",
    "###Unit Test\n",
    "testdata ={\"A.dtsx\":{\"tablename\":\"A\",linkedTables\":[\"B\",\"C\"],\"level\":0},\n",
    "           \"B.dtsx\":{\"tablename\":\"B\",\"tablename\":\"A\",\"linkedTables\":[\"D\"],\"level\":0},\n",
    "           \"C.dtsx\":{\"tablename\":\"C\",\"linkedTables\":[\"F\"],\"level\":0},\n",
    "           \"D.dtsx\":{\"tablename\":\"D\",\"linkedTables\":[\"E\"],\"level\":0},\n",
    "           \"E.dtsx\":{\"tablename\":\"E\",\"linkedTables\":[\"F\"],\"level\":0},\n",
    "           \"F.dtsx\":{\"tablename\":\"F\",\"linkedTables\":[],\"level\":0},\n",
    "          }\n",
    "for tablename in testdata.keys():\n",
    "    if testdata[tablename][\"level\"]==0:\n",
    "        dependencylevel(tablename,tablename,testdata)\n",
    "        \n",
    "print(testdata)\n",
    " \"\"\"    "
   ]
  }
 ],
 "metadata": {
  "kernelspec": {
   "display_name": "Python 3",
   "language": "python",
   "name": "python3"
  },
  "language_info": {
   "codemirror_mode": {
    "name": "ipython",
    "version": 3
   },
   "file_extension": ".py",
   "mimetype": "text/x-python",
   "name": "python",
   "nbconvert_exporter": "python",
   "pygments_lexer": "ipython3",
   "version": "3.6.6"
  }
 },
 "nbformat": 4,
 "nbformat_minor": 2
}
