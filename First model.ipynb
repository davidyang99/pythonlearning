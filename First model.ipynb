{
 "cells": [
  {
   "cell_type": "code",
   "execution_count": 2,
   "metadata": {},
   "outputs": [
    {
     "data": {
      "text/plain": [
       "5.0"
      ]
     },
     "execution_count": 2,
     "metadata": {},
     "output_type": "execute_result"
    }
   ],
   "source": [
    "import math\n",
    "x=-5\n",
    "math.fabs(x)"
   ]
  },
  {
   "cell_type": "code",
   "execution_count": 3,
   "metadata": {},
   "outputs": [
    {
     "data": {
      "text/plain": [
       "8.0"
      ]
     },
     "execution_count": 3,
     "metadata": {},
     "output_type": "execute_result"
    }
   ],
   "source": [
    "from math import pow\n",
    "pow(2,3)"
   ]
  },
  {
   "cell_type": "code",
   "execution_count": 4,
   "metadata": {},
   "outputs": [
    {
     "data": {
      "text/plain": [
       "4"
      ]
     },
     "execution_count": 4,
     "metadata": {},
     "output_type": "execute_result"
    }
   ],
   "source": [
    "# [ ] Import the math module and use an appropriate function to find the greatest common divisor of 16 and 28\n",
    "from math import gcd\n",
    "gcd(16,28)"
   ]
  },
  {
   "cell_type": "code",
   "execution_count": 5,
   "metadata": {},
   "outputs": [
    {
     "name": "stdout",
     "output_type": "stream",
     "text": [
      "please input first positive integer:\t2\n",
      "please input second positive integer:\t3\n"
     ]
    },
    {
     "data": {
      "text/plain": [
       "1"
      ]
     },
     "execution_count": 5,
     "metadata": {},
     "output_type": "execute_result"
    }
   ],
   "source": [
    "# [ ] Prompt the user to input 2 positive integers then print their greatest common divisor\n",
    "x=0\n",
    "while x<=0:\n",
    "    x=int(input(\"please input first positive integer:\\t\"))\n",
    "    if x<=0:\n",
    "        print(\"you entered a negetive number,please reenter\")\n",
    "y=0\n",
    "while y<=0:\n",
    "    y=int(input(\"please input second positive integer:\\t\"))\n",
    "    if y<=0:\n",
    "        print(\"you entered a negetive number,please reenter\")        \n",
    "from math import gcd\n",
    "gcd(x,y)    "
   ]
  },
  {
   "cell_type": "code",
   "execution_count": 16,
   "metadata": {},
   "outputs": [
    {
     "name": "stdout",
     "output_type": "stream",
     "text": [
      "None\n",
      "True\n",
      "This is \n",
      " is a atest\n"
     ]
    },
    {
     "data": {
      "text/plain": [
       "[b'test', b'dsfd']"
      ]
     },
     "execution_count": 16,
     "metadata": {},
     "output_type": "execute_result"
    }
   ],
   "source": [
    "float(\"inf\")\n",
    "print(None)\n",
    "a=None\n",
    "print(a==None)\n",
    "bool(None)\n",
    "print (\"This is \\n is a atest\")\n",
    "type(b\"test\")\n",
    "d =b\"test dsfd\"\n",
    "d.split()\n"
   ]
  },
  {
   "cell_type": "code",
   "execution_count": null,
   "metadata": {},
   "outputs": [],
   "source": []
  },
  {
   "cell_type": "code",
   "execution_count": 13,
   "metadata": {},
   "outputs": [
    {
     "name": "stdout",
     "output_type": "stream",
     "text": [
      "please input first positive integer:\t-6\n",
      "please input first positive integer:\t5\n",
      "please input second positive integer:\t10\n"
     ]
    },
    {
     "data": {
      "text/plain": [
       "5"
      ]
     },
     "execution_count": 13,
     "metadata": {},
     "output_type": "execute_result"
    }
   ],
   "source": [
    "def input_positivenumber(promote):\n",
    "    n=0\n",
    "    while n<=0:\n",
    "        n=int(input(promote+ \":\\t\"))\n",
    "    return n\n",
    "\n",
    "from math import gcd\n",
    "gcd(input_positivenumber(\"please input first positive integer\")  ,input_positivenumber(\"please input second positive integer\")  ) "
   ]
  },
  {
   "cell_type": "code",
   "execution_count": 8,
   "metadata": {},
   "outputs": [
    {
     "name": "stdout",
     "output_type": "stream",
     "text": [
      "Number is odd\n"
     ]
    }
   ],
   "source": [
    "def is_even(n):\n",
    "    return( n%2==0)\n",
    "        \n",
    "\n",
    "# Test the function \n",
    "x = 5\n",
    "if is_even(x):\n",
    "    print(\"Number is even\")\n",
    "else:\n",
    "    print(\"Number is odd\")\n"
   ]
  },
  {
   "cell_type": "code",
   "execution_count": 27,
   "metadata": {
    "scrolled": true
   },
   "outputs": [
    {
     "name": "stdout",
     "output_type": "stream",
     "text": [
      "[['Hearts', 'Clubs', 'Diamonds', 'Spades'], [6, 'Queen', 2, 3, 'King', 4, 9, 8, 7, 10, 5, 'Ace', 'Jack']]\n"
     ]
    }
   ],
   "source": [
    "from random import shuffle\n",
    "\n",
    "def pick_card():\n",
    "    card_type = ['Clubs', 'Diamonds', 'Hearts', 'Spades'];\n",
    "    card_number = ['Ace', 2, 3, 4, 5, 6, 7, 8, 9, 10, 'Jack', 'Queen', 'King']\n",
    "    \n",
    "    # choose a type at random\n",
    "    shuffle(card_type)\n",
    "    shuffle(card_number)\n",
    "    \n",
    "    return [card_type, card_number]\n",
    "\n",
    "# Show the randomly picked card\n",
    "print(pick_card())"
   ]
  },
  {
   "cell_type": "code",
   "execution_count": 29,
   "metadata": {},
   "outputs": [
    {
     "data": {
      "text/plain": [
       "'San Antonio'"
      ]
     },
     "execution_count": 29,
     "metadata": {},
     "output_type": "execute_result"
    }
   ],
   "source": [
    "# [ ] The following list contain the 10 most populous American cities; write code to randomly select one of the cities to visit\n",
    "import random\n",
    "cities = [\"New York\", \"Los Angeles\", \"Chicago\", \"Houston\", \"Phoenix\", \"Philadelphia\", \"San Antonio\", \"San Diego\", \"Dallas\", \"San Jose\"]\n",
    "random.choice(cities)\n"
   ]
  },
  {
   "cell_type": "code",
   "execution_count": 22,
   "metadata": {},
   "outputs": [
    {
     "name": "stdout",
     "output_type": "stream",
     "text": [
      "['John', 'Mike', 'Sally', 'Ana']\n"
     ]
    }
   ],
   "source": [
    "from random import shuffle\n",
    "\n",
    "x = ['Ana', 'John', 'Mike', 'Sally']\n",
    "\n",
    "shuffle(x)\n",
    "\n",
    "print(x)"
   ]
  },
  {
   "cell_type": "code",
   "execution_count": 30,
   "metadata": {},
   "outputs": [
    {
     "name": "stdout",
     "output_type": "stream",
     "text": [
      "20:55:20.000500\n"
     ]
    }
   ],
   "source": [
    "from datetime import time\n",
    "\n",
    "# Time is 8:55:20.000500 PM (or 20:55:20.000500)\n",
    "t = time(20, 55, 20, 500)\n",
    "print(t)"
   ]
  },
  {
   "cell_type": "code",
   "execution_count": 49,
   "metadata": {},
   "outputs": [
    {
     "name": "stdout",
     "output_type": "stream",
     "text": [
      "11:44\n"
     ]
    }
   ],
   "source": [
    "import datetime\n",
    "print(\"{0}:{1}\".format(datetime.datetime.today().hour,datetime.datetime.today().minute ))"
   ]
  },
  {
   "cell_type": "code",
   "execution_count": 40,
   "metadata": {},
   "outputs": [
    {
     "name": "stdout",
     "output_type": "stream",
     "text": [
      "08:45:00\n",
      "20:45:01.000150\n",
      "2012-03-28\n",
      "Month:4\n",
      "day:12\n",
      "2018-04-12\n"
     ]
    }
   ],
   "source": [
    "# [ ] Create a `time` variable containing the time: 8:45 AM\n",
    "import datetime\n",
    "print(datetime.time(hour=8,minute=45))\n",
    "\n",
    "# [ ] Create a `time` variable containing the time: 8:45:01:000150 PM\n",
    "print(datetime.time(hour=20,minute=45,second=1,microsecond =150,))\n",
    "# [ ] Create a `date` variable containing: (March 28 2012)\n",
    "print(datetime.date(year=2012,month=3,day=28))\n",
    "# [ ] Prompt the user to enter a month and a day, get the current year, then create a date object with the information collected\n",
    "m=input(\"Month:\")\n",
    "d=input(\"day:\")\n",
    "print(datetime.date( year=int(datetime.date.today().year), month=int(m),day=int(d) ))"
   ]
  }
 ],
 "metadata": {
  "kernelspec": {
   "display_name": "Python 3",
   "language": "python",
   "name": "python3"
  },
  "language_info": {
   "codemirror_mode": {
    "name": "ipython",
    "version": 3
   },
   "file_extension": ".py",
   "mimetype": "text/x-python",
   "name": "python",
   "nbconvert_exporter": "python",
   "pygments_lexer": "ipython3",
   "version": "3.7.0"
  }
 },
 "nbformat": 4,
 "nbformat_minor": 2
}
